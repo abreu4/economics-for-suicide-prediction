{
 "cells": [
  {
   "cell_type": "code",
   "execution_count": 2,
   "id": "de6fed76",
   "metadata": {},
   "outputs": [],
   "source": [
    "%matplotlib inline\n",
    "import matplotlib.pyplot as plt\n",
    "import pandas as pd\n",
    "import numpy as np\n",
    "\n",
    "plt.rcParams['figure.figsize'] = [10, 8]\n",
    "plt.rcParams['figure.dpi'] = 100"
   ]
  },
  {
   "cell_type": "code",
   "execution_count": 3,
   "id": "d75313b7",
   "metadata": {},
   "outputs": [],
   "source": [
    "# Define some utility functions\n",
    "\n",
    "def adjusted_count(x):\n",
    "    return len(x) / num_countries\n",
    "\n",
    "def plot_series_list(series_list, title=\"\"):\n",
    "    \n",
    "    fig, axs = plt.subplots(len(series_list))\n",
    "    fig.suptitle(title)\n",
    "    y_label = \"% of valid values\"\n",
    "    \n",
    "    for i, s in enumerate(series_list):\n",
    "        #axs[i].set_yticks(np.arange(0, 1, 0.1), minor=False)\n",
    "        axs[i].title.set_text(s.name)\n",
    "        axs[i].set_ylabel(y_label)\n",
    "        axs[i].set_yticks([0, 0.1, 0.2, 0.3, 0.4, 0.5, 0.6, 0.7, 0.8, 0.9, 1])\n",
    "        axs[i].hlines(0.8, min(s.index), max(s.index), color='r')\n",
    "        axs[i].plot(s.index[:-1], s.values[:-1], marker='x')\n",
    "    \n",
    "    fig.tight_layout(pad=1.0)\n",
    "    \n",
    "    return\n"
   ]
  },
  {
   "cell_type": "markdown",
   "id": "093aac38",
   "metadata": {},
   "source": [
    "# Economic indicators"
   ]
  },
  {
   "cell_type": "code",
   "execution_count": 4,
   "id": "2ff8cdfb",
   "metadata": {},
   "outputs": [
    {
     "data": {
      "text/html": [
       "<div>\n",
       "<style scoped>\n",
       "    .dataframe tbody tr th:only-of-type {\n",
       "        vertical-align: middle;\n",
       "    }\n",
       "\n",
       "    .dataframe tbody tr th {\n",
       "        vertical-align: top;\n",
       "    }\n",
       "\n",
       "    .dataframe thead th {\n",
       "        text-align: right;\n",
       "    }\n",
       "</style>\n",
       "<table border=\"1\" class=\"dataframe\">\n",
       "  <thead>\n",
       "    <tr style=\"text-align: right;\">\n",
       "      <th></th>\n",
       "      <th>CountryName</th>\n",
       "      <th>CountryCode</th>\n",
       "      <th>IndicatorName</th>\n",
       "      <th>IndicatorCode</th>\n",
       "      <th>Year</th>\n",
       "      <th>Value</th>\n",
       "    </tr>\n",
       "  </thead>\n",
       "  <tbody>\n",
       "    <tr>\n",
       "      <th>0</th>\n",
       "      <td>Arab World</td>\n",
       "      <td>ARB</td>\n",
       "      <td>Adolescent fertility rate (births per 1,000 wo...</td>\n",
       "      <td>SP.ADO.TFRT</td>\n",
       "      <td>1960</td>\n",
       "      <td>1.335609e+02</td>\n",
       "    </tr>\n",
       "    <tr>\n",
       "      <th>1</th>\n",
       "      <td>Arab World</td>\n",
       "      <td>ARB</td>\n",
       "      <td>Age dependency ratio (% of working-age populat...</td>\n",
       "      <td>SP.POP.DPND</td>\n",
       "      <td>1960</td>\n",
       "      <td>8.779760e+01</td>\n",
       "    </tr>\n",
       "    <tr>\n",
       "      <th>2</th>\n",
       "      <td>Arab World</td>\n",
       "      <td>ARB</td>\n",
       "      <td>Age dependency ratio, old (% of working-age po...</td>\n",
       "      <td>SP.POP.DPND.OL</td>\n",
       "      <td>1960</td>\n",
       "      <td>6.634579e+00</td>\n",
       "    </tr>\n",
       "    <tr>\n",
       "      <th>3</th>\n",
       "      <td>Arab World</td>\n",
       "      <td>ARB</td>\n",
       "      <td>Age dependency ratio, young (% of working-age ...</td>\n",
       "      <td>SP.POP.DPND.YG</td>\n",
       "      <td>1960</td>\n",
       "      <td>8.102333e+01</td>\n",
       "    </tr>\n",
       "    <tr>\n",
       "      <th>4</th>\n",
       "      <td>Arab World</td>\n",
       "      <td>ARB</td>\n",
       "      <td>Arms exports (SIPRI trend indicator values)</td>\n",
       "      <td>MS.MIL.XPRT.KD</td>\n",
       "      <td>1960</td>\n",
       "      <td>3.000000e+06</td>\n",
       "    </tr>\n",
       "  </tbody>\n",
       "</table>\n",
       "</div>"
      ],
      "text/plain": [
       "  CountryName CountryCode                                      IndicatorName  \\\n",
       "0  Arab World         ARB  Adolescent fertility rate (births per 1,000 wo...   \n",
       "1  Arab World         ARB  Age dependency ratio (% of working-age populat...   \n",
       "2  Arab World         ARB  Age dependency ratio, old (% of working-age po...   \n",
       "3  Arab World         ARB  Age dependency ratio, young (% of working-age ...   \n",
       "4  Arab World         ARB        Arms exports (SIPRI trend indicator values)   \n",
       "\n",
       "    IndicatorCode  Year         Value  \n",
       "0     SP.ADO.TFRT  1960  1.335609e+02  \n",
       "1     SP.POP.DPND  1960  8.779760e+01  \n",
       "2  SP.POP.DPND.OL  1960  6.634579e+00  \n",
       "3  SP.POP.DPND.YG  1960  8.102333e+01  \n",
       "4  MS.MIL.XPRT.KD  1960  3.000000e+06  "
      ]
     },
     "execution_count": 4,
     "metadata": {},
     "output_type": "execute_result"
    }
   ],
   "source": [
    "data = pd.read_csv('data/Indicators.csv')\n",
    "data.dropna()\n",
    "data.head()"
   ]
  },
  {
   "cell_type": "markdown",
   "id": "11000438",
   "metadata": {},
   "source": [
    "### 1. Drop data for composite regions"
   ]
  },
  {
   "cell_type": "code",
   "execution_count": 5,
   "id": "6193e604",
   "metadata": {},
   "outputs": [],
   "source": [
    "regions = data['CountryName'].unique()\n",
    "num_composite_regions = len(regions)\n",
    "\n",
    "# Get only individual regions\n",
    "# Meaning countries in this context, except for some minor exceptions like Hong Kong\n",
    "\n",
    "countries = regions[33:]\n",
    "num_countries = len(countries)"
   ]
  },
  {
   "cell_type": "code",
   "execution_count": 6,
   "id": "a737956a",
   "metadata": {},
   "outputs": [
    {
     "name": "stdout",
     "output_type": "stream",
     "text": [
      "Composite regions: 247\n",
      "Individual regions: 214\n"
     ]
    }
   ],
   "source": [
    "print(f'Composite regions: {num_composite_regions}')\n",
    "print(f'Individual regions: {num_countries}')"
   ]
  },
  {
   "cell_type": "code",
   "execution_count": 7,
   "id": "f97c1bd3",
   "metadata": {},
   "outputs": [
    {
     "name": "stdout",
     "output_type": "stream",
     "text": [
      "True\n"
     ]
    }
   ],
   "source": [
    "# Drop composite regions\n",
    "\n",
    "data = data[data['CountryName'].isin(countries)]\n",
    "print(len(data['CountryName'].unique()) == num_countries)"
   ]
  },
  {
   "cell_type": "markdown",
   "id": "65a80a32",
   "metadata": {},
   "source": [
    "### 2. Study relevant indicators"
   ]
  },
  {
   "cell_type": "code",
   "execution_count": 8,
   "id": "f17fe3bc",
   "metadata": {},
   "outputs": [
    {
     "data": {
      "text/plain": [
       "['Population growth (annual %)',\n",
       " 'Rural population growth (annual %)',\n",
       " 'Urban population growth (annual %)',\n",
       " 'Agriculture, value added (annual % growth)',\n",
       " 'Exports of goods and services (annual % growth)',\n",
       " 'Final consumption expenditure, etc. (annual % growth)',\n",
       " 'GDP growth (annual %)',\n",
       " 'GDP per capita growth (annual %)',\n",
       " 'General government final consumption expenditure (annual % growth)',\n",
       " 'GNI growth (annual %)',\n",
       " 'GNI per capita growth (annual %)',\n",
       " 'Gross capital formation (annual % growth)',\n",
       " 'Household final consumption expenditure (annual % growth)',\n",
       " 'Household final consumption expenditure per capita growth (annual %)',\n",
       " 'Household final consumption expenditure, etc. (annual % growth)',\n",
       " 'Imports of goods and services (annual % growth)',\n",
       " 'Industry, value added (annual % growth)',\n",
       " 'Gross fixed capital formation (annual % growth)',\n",
       " 'Manufacturing, value added (annual % growth)',\n",
       " 'Services, etc., value added (annual % growth)',\n",
       " 'Adjusted net national income (annual % growth)',\n",
       " 'Adjusted net national income per capita (annual % growth)',\n",
       " 'Broad money growth (annual %)',\n",
       " 'Claims on central government (annual growth as % of broad money)',\n",
       " 'Claims on other sectors of the domestic economy (annual growth as % of broad money)',\n",
       " 'Claims on private sector (annual growth as % of broad money)',\n",
       " 'Money and quasi money growth (annual %)',\n",
       " 'Annualized average growth rate in per capita real survey mean consumption or income, bottom 40% of population (%)',\n",
       " 'Annualized average growth rate in per capita real survey mean consumption or income, total population (%)']"
      ]
     },
     "execution_count": 8,
     "metadata": {},
     "output_type": "execute_result"
    }
   ],
   "source": [
    "# Find indicators related to GDP, CPI and unemployment numbers\n",
    "\n",
    "#gdp_series_complete = indicators_table[indicators_table.index.str.contains(\"GDP\")]\n",
    "#unemployment_series_complete = indicators_table[indicators_table.index.str.contains(\"Unemployment\")]\n",
    "#price_index_series_complete = indicators_table[indicators_table.index.str.contains(\"price index\")]\n",
    "\n",
    "\"\"\"plot_series_list([gdp_series_complete,\n",
    "                  unemployment_series_complete,\n",
    "                  price_index_series_complete], 'Completeness of indicators over time')\"\"\"\n",
    "s = \"growth\"\n",
    "ind = [i for i in data['IndicatorName'].unique() if s in i] \n",
    "ind"
   ]
  },
  {
   "cell_type": "code",
   "execution_count": 9,
   "id": "c7b71fd3",
   "metadata": {},
   "outputs": [],
   "source": [
    "# Define indicators we'll be using\n",
    "\n",
    "relevant_indicators = {\n",
    "    \"gdp\": 'GDP per capita (constant LCU)',\n",
    "    \"unemployment\": 'Unemployment, total (% of total labor force)',\n",
    "    \"cpi\": 'Consumer price index (2010 = 100)',\n",
    "    \"cgd\": 'Central government debt, total (% of GDP)'\n",
    "}"
   ]
  },
  {
   "cell_type": "code",
   "execution_count": 10,
   "id": "7f04b9ca",
   "metadata": {
    "scrolled": false
   },
   "outputs": [],
   "source": [
    "# Count valid indicators (along countries column), pivoting per indicator per year\n",
    "\n",
    "data_table = data.pivot_table(index=['IndicatorName'], columns=['Year'], values='Value', aggfunc=adjusted_count)\n",
    "data_table.fillna(value=0, inplace=True)"
   ]
  },
  {
   "cell_type": "code",
   "execution_count": 12,
   "id": "492f8df3",
   "metadata": {},
   "outputs": [],
   "source": [
    "indicators = []\n",
    "\n",
    "indicators.append(data_table.loc[relevant_indicators[\"gdp\"], :])\n",
    "indicators.append(data_table.loc[relevant_indicators[\"unemployment\"], :])\n",
    "indicators.append(data_table.loc[relevant_indicators[\"cpi\"], :])\n",
    "\n",
    "#plot_series_list(indicators, 'Completeness of indicators over time')"
   ]
  },
  {
   "cell_type": "markdown",
   "id": "67a2d1b1",
   "metadata": {},
   "source": [
    "Looking at the graphs, it's visible there's a lot of incomplete data roughly before 1995.\n",
    "All samples prior to 1995 will be dropped.\n",
    "All samples for indicators that are not the 3 displayed above will also be dropped."
   ]
  },
  {
   "cell_type": "markdown",
   "id": "0256a007",
   "metadata": {},
   "source": [
    "### 3. Build new dataset"
   ]
  },
  {
   "cell_type": "code",
   "execution_count": 58,
   "id": "35147dbc",
   "metadata": {},
   "outputs": [
    {
     "data": {
      "text/html": [
       "<div>\n",
       "<style scoped>\n",
       "    .dataframe tbody tr th:only-of-type {\n",
       "        vertical-align: middle;\n",
       "    }\n",
       "\n",
       "    .dataframe tbody tr th {\n",
       "        vertical-align: top;\n",
       "    }\n",
       "\n",
       "    .dataframe thead th {\n",
       "        text-align: right;\n",
       "    }\n",
       "</style>\n",
       "<table border=\"1\" class=\"dataframe\">\n",
       "  <thead>\n",
       "    <tr style=\"text-align: right;\">\n",
       "      <th></th>\n",
       "      <th>CountryName</th>\n",
       "      <th>IndicatorName</th>\n",
       "      <th>Year</th>\n",
       "      <th>IndicatorValue</th>\n",
       "    </tr>\n",
       "  </thead>\n",
       "  <tbody>\n",
       "    <tr>\n",
       "      <th>2502317</th>\n",
       "      <td>Afghanistan</td>\n",
       "      <td>Unemployment, total (% of total labor force)</td>\n",
       "      <td>1995</td>\n",
       "      <td>8.500000</td>\n",
       "    </tr>\n",
       "    <tr>\n",
       "      <th>2502386</th>\n",
       "      <td>Albania</td>\n",
       "      <td>Central government debt, total (% of GDP)</td>\n",
       "      <td>1995</td>\n",
       "      <td>35.288883</td>\n",
       "    </tr>\n",
       "    <tr>\n",
       "      <th>2502420</th>\n",
       "      <td>Albania</td>\n",
       "      <td>Consumer price index (2010 = 100)</td>\n",
       "      <td>1995</td>\n",
       "      <td>40.762778</td>\n",
       "    </tr>\n",
       "    <tr>\n",
       "      <th>2502520</th>\n",
       "      <td>Albania</td>\n",
       "      <td>GDP per capita (constant LCU)</td>\n",
       "      <td>1995</td>\n",
       "      <td>99602.052864</td>\n",
       "    </tr>\n",
       "    <tr>\n",
       "      <th>2502987</th>\n",
       "      <td>Albania</td>\n",
       "      <td>Unemployment, total (% of total labor force)</td>\n",
       "      <td>1995</td>\n",
       "      <td>16.900000</td>\n",
       "    </tr>\n",
       "  </tbody>\n",
       "</table>\n",
       "</div>"
      ],
      "text/plain": [
       "         CountryName                                 IndicatorName  Year  \\\n",
       "2502317  Afghanistan  Unemployment, total (% of total labor force)  1995   \n",
       "2502386      Albania     Central government debt, total (% of GDP)  1995   \n",
       "2502420      Albania             Consumer price index (2010 = 100)  1995   \n",
       "2502520      Albania                 GDP per capita (constant LCU)  1995   \n",
       "2502987      Albania  Unemployment, total (% of total labor force)  1995   \n",
       "\n",
       "         IndicatorValue  \n",
       "2502317        8.500000  \n",
       "2502386       35.288883  \n",
       "2502420       40.762778  \n",
       "2502520    99602.052864  \n",
       "2502987       16.900000  "
      ]
     },
     "execution_count": 58,
     "metadata": {},
     "output_type": "execute_result"
    }
   ],
   "source": [
    "# Drop unnecessary rows\n",
    "\n",
    "economics_data = data[data['CountryName'].isin(countries)]\n",
    "economics_data = economics_data[economics_data['IndicatorName'].isin(relevant_indicators.values())]\n",
    "economics_data = economics_data[economics_data['Year'] >= 1995]\n",
    "economics_data = economics_data.drop(columns=[\"CountryCode\", \"IndicatorCode\"])\n",
    "economics_data.rename(columns = {'Value':'IndicatorValue'}, inplace = True)\n",
    "economics_data.head()"
   ]
  },
  {
   "cell_type": "code",
   "execution_count": 45,
   "id": "2aaa7d25",
   "metadata": {},
   "outputs": [],
   "source": [
    "#print(economics_data['CountryName'].unique())\n",
    "#print(economics_data['Year'].unique())\n",
    "#print(economics_data['IndicatorName'].unique())"
   ]
  },
  {
   "cell_type": "code",
   "execution_count": 46,
   "id": "ad9477ea",
   "metadata": {},
   "outputs": [],
   "source": [
    "# Add missing rows\n",
    "\n",
    "idx = pd.MultiIndex.from_product([economics_data['CountryName'].unique(), \n",
    "                                  economics_data['IndicatorName'].unique(),\n",
    "                                  economics_data['Year'].unique()], names=[\"CountryName\", \"IndicatorName\", \"Year\"])\n",
    "\n",
    "economics_data = economics_data.set_index([\"CountryName\", \"IndicatorName\", \"Year\"]).reindex(idx).reset_index()"
   ]
  },
  {
   "cell_type": "markdown",
   "id": "803b8dc3",
   "metadata": {},
   "source": [
    "# Suicide numbers\n",
    "\n",
    "Prepare the suicide numbers dataset"
   ]
  },
  {
   "cell_type": "code",
   "execution_count": 47,
   "id": "35fb3c0f",
   "metadata": {},
   "outputs": [],
   "source": [
    "suicide_data = pd.read_csv('data/Suicides.csv')\n",
    "suicide_data.dropna(inplace=True)"
   ]
  },
  {
   "cell_type": "code",
   "execution_count": 48,
   "id": "39da7084",
   "metadata": {},
   "outputs": [],
   "source": [
    "suicide_data = suicide_data[suicide_data['year'] >= 1995]\n",
    "suicide_data.rename(columns = {'country': 'CountryName',\n",
    "                               'year': 'Year'},\n",
    "                    inplace = True)\n",
    "suicide_data = suicide_data.groupby(['CountryName', 'Year']).sum()\n",
    "suicide_data.reset_index(level=0, inplace=True)\n",
    "#suicide_data"
   ]
  },
  {
   "cell_type": "markdown",
   "id": "16654830",
   "metadata": {},
   "source": [
    "# Obtain final dataset\n",
    "\n",
    "By merging economic indicators and suicide numbers"
   ]
  },
  {
   "cell_type": "markdown",
   "id": "932939d7",
   "metadata": {},
   "source": [
    "The economic indicators dataset has considerably more countries than the suicides dataset.\n",
    "Additionally, some of the countries in both datasets have slightly different names.\n",
    "We'll tackle this by modifying the economics indicators dataset in two different ways:\n",
    "1. Rename some of the obvious mismatches\n",
    "2. Drop rows that don't match"
   ]
  },
  {
   "cell_type": "code",
   "execution_count": 49,
   "id": "513f6fc7",
   "metadata": {},
   "outputs": [
    {
     "name": "stdout",
     "output_type": "stream",
     "text": [
      "Economic indicators countries: 205\n",
      "Suicides countries: 112\n",
      "Matches: 92\n"
     ]
    }
   ],
   "source": [
    "print(f\"Economic indicators countries: {len(economics_data['CountryName'].unique())}\")\n",
    "print(f\"Suicides countries: {len(suicide_data['CountryName'].unique())}\")\n",
    "print(f\"Matches: {len(set(list(economics_data['CountryName'].unique())) & set(list(suicide_data['CountryName'].unique())))}\")"
   ]
  },
  {
   "cell_type": "code",
   "execution_count": 50,
   "id": "557cbb32",
   "metadata": {},
   "outputs": [
    {
     "name": "stdout",
     "output_type": "stream",
     "text": [
      "Matches: 98\n"
     ]
    }
   ],
   "source": [
    "# Rename\n",
    "\n",
    "economics_data['CountryName'].replace({'United States': 'United States of America',\n",
    "                                       'Iran, Islamic Rep.': 'Iran (Islamic Rep of)',\n",
    "                                       'Venezuela, RB': 'Venezuela (Bolivarian Republic of)',\n",
    "                                       'Macedonia, FYR': 'TFYR Macedonia',\n",
    "                                       'Korea, Rep.': 'Republic of Korea',\n",
    "                                       'Moldova': 'Republic of Moldova',},\n",
    "                                     inplace=True)\n",
    "print(f\"Matches: {len(set(list(economics_data['CountryName'].unique())) & set(list(suicide_data['CountryName'].unique())))}\")"
   ]
  },
  {
   "cell_type": "code",
   "execution_count": 59,
   "id": "7382e760",
   "metadata": {},
   "outputs": [
    {
     "data": {
      "text/html": [
       "<div>\n",
       "<style scoped>\n",
       "    .dataframe tbody tr th:only-of-type {\n",
       "        vertical-align: middle;\n",
       "    }\n",
       "\n",
       "    .dataframe tbody tr th {\n",
       "        vertical-align: top;\n",
       "    }\n",
       "\n",
       "    .dataframe thead th {\n",
       "        text-align: right;\n",
       "    }\n",
       "</style>\n",
       "<table border=\"1\" class=\"dataframe\">\n",
       "  <thead>\n",
       "    <tr style=\"text-align: right;\">\n",
       "      <th></th>\n",
       "      <th>CountryName</th>\n",
       "      <th>Central government debt, total (% of GDP)</th>\n",
       "      <th>Consumer price index (2010 = 100)</th>\n",
       "      <th>GDP per capita (constant LCU)</th>\n",
       "      <th>Unemployment, total (% of total labor force)</th>\n",
       "      <th>suicides_no</th>\n",
       "      <th>population</th>\n",
       "    </tr>\n",
       "    <tr>\n",
       "      <th>Year</th>\n",
       "      <th></th>\n",
       "      <th></th>\n",
       "      <th></th>\n",
       "      <th></th>\n",
       "      <th></th>\n",
       "      <th></th>\n",
       "      <th></th>\n",
       "    </tr>\n",
       "  </thead>\n",
       "  <tbody>\n",
       "    <tr>\n",
       "      <th>1995</th>\n",
       "      <td>Russian Federation</td>\n",
       "      <td>NaN</td>\n",
       "      <td>6.334084</td>\n",
       "      <td>45445.79989</td>\n",
       "      <td>9.4</td>\n",
       "      <td>60548.0</td>\n",
       "      <td>139087100.0</td>\n",
       "    </tr>\n",
       "  </tbody>\n",
       "</table>\n",
       "</div>"
      ],
      "text/plain": [
       "             CountryName  Central government debt, total (% of GDP)  \\\n",
       "Year                                                                  \n",
       "1995  Russian Federation                                        NaN   \n",
       "\n",
       "      Consumer price index (2010 = 100)  GDP per capita (constant LCU)  \\\n",
       "Year                                                                     \n",
       "1995                           6.334084                    45445.79989   \n",
       "\n",
       "      Unemployment, total (% of total labor force)  suicides_no   population  \n",
       "Year                                                                          \n",
       "1995                                           9.4      60548.0  139087100.0  "
      ]
     },
     "execution_count": 59,
     "metadata": {},
     "output_type": "execute_result"
    }
   ],
   "source": [
    "# Inner join\n",
    "economics_data.set_index(['CountryName', 'Year'], inplace=True)\n",
    "economics_data = economics_data.pivot_table('IndicatorValue', ['Year', 'CountryName'], 'IndicatorName')\n",
    "economics_data = pd.merge(economics_data, suicide_data,  how='inner', on=['CountryName', 'Year'])\n",
    "economics_data[economics_data['suicides_no'] > 60000].head(10)\n",
    "\n",
    "#economics_data.reset_index(drop=True, inplace=True)\n",
    "#economics_data.drop(['CountryName'], axis=1, inplace=True)"
   ]
  },
  {
   "cell_type": "code",
   "execution_count": 52,
   "id": "a67e51e1",
   "metadata": {},
   "outputs": [
    {
     "data": {
      "text/html": [
       "<div>\n",
       "<style scoped>\n",
       "    .dataframe tbody tr th:only-of-type {\n",
       "        vertical-align: middle;\n",
       "    }\n",
       "\n",
       "    .dataframe tbody tr th {\n",
       "        vertical-align: top;\n",
       "    }\n",
       "\n",
       "    .dataframe thead th {\n",
       "        text-align: right;\n",
       "    }\n",
       "</style>\n",
       "<table border=\"1\" class=\"dataframe\">\n",
       "  <thead>\n",
       "    <tr style=\"text-align: right;\">\n",
       "      <th></th>\n",
       "      <th>CountryName</th>\n",
       "      <th>Central government debt, total (% of GDP)</th>\n",
       "      <th>Consumer price index (2010 = 100)</th>\n",
       "      <th>GDP per capita (constant LCU)</th>\n",
       "      <th>Unemployment, total (% of total labor force)</th>\n",
       "      <th>suicides_no</th>\n",
       "      <th>population</th>\n",
       "    </tr>\n",
       "  </thead>\n",
       "  <tbody>\n",
       "    <tr>\n",
       "      <th>0</th>\n",
       "      <td>Albania</td>\n",
       "      <td>35.288883</td>\n",
       "      <td>40.762778</td>\n",
       "      <td>99602.052864</td>\n",
       "      <td>16.900000</td>\n",
       "      <td>88.0</td>\n",
       "      <td>2903400.0</td>\n",
       "    </tr>\n",
       "    <tr>\n",
       "      <th>1</th>\n",
       "      <td>Antigua and Barbuda</td>\n",
       "      <td>NaN</td>\n",
       "      <td>NaN</td>\n",
       "      <td>26247.765147</td>\n",
       "      <td>NaN</td>\n",
       "      <td>0.0</td>\n",
       "      <td>66846.0</td>\n",
       "    </tr>\n",
       "    <tr>\n",
       "      <th>2</th>\n",
       "      <td>Argentina</td>\n",
       "      <td>NaN</td>\n",
       "      <td>NaN</td>\n",
       "      <td>13339.409635</td>\n",
       "      <td>18.799999</td>\n",
       "      <td>2204.0</td>\n",
       "      <td>31345400.0</td>\n",
       "    </tr>\n",
       "    <tr>\n",
       "      <th>3</th>\n",
       "      <td>Armenia</td>\n",
       "      <td>NaN</td>\n",
       "      <td>44.286056</td>\n",
       "      <td>193776.500640</td>\n",
       "      <td>24.000000</td>\n",
       "      <td>130.0</td>\n",
       "      <td>3443200.0</td>\n",
       "    </tr>\n",
       "    <tr>\n",
       "      <th>4</th>\n",
       "      <td>Aruba</td>\n",
       "      <td>NaN</td>\n",
       "      <td>62.495164</td>\n",
       "      <td>34337.947862</td>\n",
       "      <td>NaN</td>\n",
       "      <td>8.0</td>\n",
       "      <td>73581.0</td>\n",
       "    </tr>\n",
       "  </tbody>\n",
       "</table>\n",
       "</div>"
      ],
      "text/plain": [
       "           CountryName  Central government debt, total (% of GDP)  \\\n",
       "0              Albania                                  35.288883   \n",
       "1  Antigua and Barbuda                                        NaN   \n",
       "2            Argentina                                        NaN   \n",
       "3              Armenia                                        NaN   \n",
       "4                Aruba                                        NaN   \n",
       "\n",
       "   Consumer price index (2010 = 100)  GDP per capita (constant LCU)  \\\n",
       "0                          40.762778                   99602.052864   \n",
       "1                                NaN                   26247.765147   \n",
       "2                                NaN                   13339.409635   \n",
       "3                          44.286056                  193776.500640   \n",
       "4                          62.495164                   34337.947862   \n",
       "\n",
       "   Unemployment, total (% of total labor force)  suicides_no  population  \n",
       "0                                     16.900000         88.0   2903400.0  \n",
       "1                                           NaN          0.0     66846.0  \n",
       "2                                     18.799999       2204.0  31345400.0  \n",
       "3                                     24.000000        130.0   3443200.0  \n",
       "4                                           NaN          8.0     73581.0  "
      ]
     },
     "execution_count": 52,
     "metadata": {},
     "output_type": "execute_result"
    }
   ],
   "source": [
    "economics_data.head()"
   ]
  },
  {
   "cell_type": "markdown",
   "id": "063fb109",
   "metadata": {},
   "source": [
    "# Preprocess dataset"
   ]
  },
  {
   "cell_type": "code",
   "execution_count": 53,
   "id": "ee3203cc",
   "metadata": {},
   "outputs": [
    {
     "data": {
      "image/png": "[encoded data removed]",
      "text/plain": [
       "<Figure size 2000x1500 with 6 Axes>"
      ]
     },
     "metadata": {
      "needs_background": "light"
     },
     "output_type": "display_data"
    }
   ],
   "source": [
    "economics_data.hist(bins=50, figsize=(20,15))\n",
    "plt.show()"
   ]
  },
  {
   "cell_type": "code",
   "execution_count": 55,
   "id": "80c47699",
   "metadata": {},
   "outputs": [
    {
     "data": {
      "text/html": [
       "<div>\n",
       "<style scoped>\n",
       "    .dataframe tbody tr th:only-of-type {\n",
       "        vertical-align: middle;\n",
       "    }\n",
       "\n",
       "    .dataframe tbody tr th {\n",
       "        vertical-align: top;\n",
       "    }\n",
       "\n",
       "    .dataframe thead th {\n",
       "        text-align: right;\n",
       "    }\n",
       "</style>\n",
       "<table border=\"1\" class=\"dataframe\">\n",
       "  <thead>\n",
       "    <tr style=\"text-align: right;\">\n",
       "      <th></th>\n",
       "      <th>Central government debt, total (% of GDP)</th>\n",
       "      <th>Consumer price index (2010 = 100)</th>\n",
       "      <th>GDP per capita (constant LCU)</th>\n",
       "      <th>Unemployment, total (% of total labor force)</th>\n",
       "      <th>suicides_no</th>\n",
       "      <th>population</th>\n",
       "    </tr>\n",
       "  </thead>\n",
       "  <tbody>\n",
       "    <tr>\n",
       "      <th>count</th>\n",
       "      <td>681.000000</td>\n",
       "      <td>1479.000000</td>\n",
       "      <td>1.644000e+03</td>\n",
       "      <td>1577.000000</td>\n",
       "      <td>1654.000000</td>\n",
       "      <td>1.654000e+03</td>\n",
       "    </tr>\n",
       "    <tr>\n",
       "      <th>mean</th>\n",
       "      <td>56.676592</td>\n",
       "      <td>82.994576</td>\n",
       "      <td>7.143152e+05</td>\n",
       "      <td>8.794356</td>\n",
       "      <td>2929.029625</td>\n",
       "      <td>2.229644e+07</td>\n",
       "    </tr>\n",
       "    <tr>\n",
       "      <th>std</th>\n",
       "      <td>36.814464</td>\n",
       "      <td>23.962311</td>\n",
       "      <td>2.804038e+06</td>\n",
       "      <td>5.541547</td>\n",
       "      <td>7170.830242</td>\n",
       "      <td>4.196167e+07</td>\n",
       "    </tr>\n",
       "    <tr>\n",
       "      <th>min</th>\n",
       "      <td>3.675330</td>\n",
       "      <td>1.627491</td>\n",
       "      <td>4.364325e+02</td>\n",
       "      <td>0.300000</td>\n",
       "      <td>0.000000</td>\n",
       "      <td>2.380100e+04</td>\n",
       "    </tr>\n",
       "    <tr>\n",
       "      <th>25%</th>\n",
       "      <td>30.306790</td>\n",
       "      <td>71.519895</td>\n",
       "      <td>1.146569e+04</td>\n",
       "      <td>5.100000</td>\n",
       "      <td>139.000000</td>\n",
       "      <td>2.044640e+06</td>\n",
       "    </tr>\n",
       "    <tr>\n",
       "      <th>50%</th>\n",
       "      <td>49.776964</td>\n",
       "      <td>86.109598</td>\n",
       "      <td>3.455280e+04</td>\n",
       "      <td>7.600000</td>\n",
       "      <td>589.500000</td>\n",
       "      <td>5.547578e+06</td>\n",
       "    </tr>\n",
       "    <tr>\n",
       "      <th>75%</th>\n",
       "      <td>75.539374</td>\n",
       "      <td>100.000000</td>\n",
       "      <td>1.379862e+05</td>\n",
       "      <td>11.000000</td>\n",
       "      <td>2240.250000</td>\n",
       "      <td>2.087673e+07</td>\n",
       "    </tr>\n",
       "    <tr>\n",
       "      <th>max</th>\n",
       "      <td>195.992700</td>\n",
       "      <td>250.829327</td>\n",
       "      <td>2.829092e+07</td>\n",
       "      <td>37.299999</td>\n",
       "      <td>60548.000000</td>\n",
       "      <td>2.977497e+08</td>\n",
       "    </tr>\n",
       "  </tbody>\n",
       "</table>\n",
       "</div>"
      ],
      "text/plain": [
       "       Central government debt, total (% of GDP)  \\\n",
       "count                                 681.000000   \n",
       "mean                                   56.676592   \n",
       "std                                    36.814464   \n",
       "min                                     3.675330   \n",
       "25%                                    30.306790   \n",
       "50%                                    49.776964   \n",
       "75%                                    75.539374   \n",
       "max                                   195.992700   \n",
       "\n",
       "       Consumer price index (2010 = 100)  GDP per capita (constant LCU)  \\\n",
       "count                        1479.000000                   1.644000e+03   \n",
       "mean                           82.994576                   7.143152e+05   \n",
       "std                            23.962311                   2.804038e+06   \n",
       "min                             1.627491                   4.364325e+02   \n",
       "25%                            71.519895                   1.146569e+04   \n",
       "50%                            86.109598                   3.455280e+04   \n",
       "75%                           100.000000                   1.379862e+05   \n",
       "max                           250.829327                   2.829092e+07   \n",
       "\n",
       "       Unemployment, total (% of total labor force)   suicides_no  \\\n",
       "count                                   1577.000000   1654.000000   \n",
       "mean                                       8.794356   2929.029625   \n",
       "std                                        5.541547   7170.830242   \n",
       "min                                        0.300000      0.000000   \n",
       "25%                                        5.100000    139.000000   \n",
       "50%                                        7.600000    589.500000   \n",
       "75%                                       11.000000   2240.250000   \n",
       "max                                       37.299999  60548.000000   \n",
       "\n",
       "         population  \n",
       "count  1.654000e+03  \n",
       "mean   2.229644e+07  \n",
       "std    4.196167e+07  \n",
       "min    2.380100e+04  \n",
       "25%    2.044640e+06  \n",
       "50%    5.547578e+06  \n",
       "75%    2.087673e+07  \n",
       "max    2.977497e+08  "
      ]
     },
     "execution_count": 55,
     "metadata": {},
     "output_type": "execute_result"
    }
   ],
   "source": [
    "economics_data.describe()"
   ]
  },
  {
   "cell_type": "code",
   "execution_count": 63,
   "id": "0141422e",
   "metadata": {},
   "outputs": [],
   "source": [
    "economics_data.to_csv(\"data/data_untreated.csv\")"
   ]
  },
  {
   "cell_type": "code",
   "execution_count": null,
   "id": "8b75cc2e",
   "metadata": {},
   "outputs": [],
   "source": []
  }
 ],
 "metadata": {
  "kernelspec": {
   "display_name": "Python 3",
   "language": "python",
   "name": "python3"
  },
  "language_info": {
   "codemirror_mode": {
    "name": "ipython",
    "version": 3
   },
   "file_extension": ".py",
   "mimetype": "text/x-python",
   "name": "python",
   "nbconvert_exporter": "python",
   "pygments_lexer": "ipython3",
   "version": "3.6.13"
  }
 },
 "nbformat": 4,
 "nbformat_minor": 5
}
